{
 "cells": [
  {
   "cell_type": "markdown",
   "metadata": {},
   "source": [
    "185767\n",
    "Santos\n",
    "3 BS Information Technology Entrepreneurship"
   ]
  },
  {
   "cell_type": "code",
   "execution_count": 24,
   "metadata": {},
   "outputs": [
    {
     "name": "stdout",
     "output_type": "stream",
     "text": [
      "Enter the amount in US Dollars: 20\n",
      "20 US dollar(s) =  1000 Philippine Pesos\n"
     ]
    }
   ],
   "source": [
    "def dollars_to_pesos(a):\n",
    "    return (a*50)\n",
    "\n",
    "a=int(input(\"Enter the amount in US Dollars: \"))\n",
    "\n",
    "print(a,\"US dollar(s) = \", dollars_to_pesos(a),\"Philippine Pesos\")\n",
    "    "
   ]
  },
  {
   "cell_type": "code",
   "execution_count": 23,
   "metadata": {},
   "outputs": [
    {
     "name": "stdout",
     "output_type": "stream",
     "text": [
      "128\n",
      "8\n",
      "136\n",
      "120\n",
      "1024\n",
      "16.0\n",
      "0\n"
     ]
    }
   ],
   "source": [
    "a=int(input())\n",
    "b=int(input())\n",
    "\n",
    "print(str(a+b))\n",
    "print(str(a-b))\n",
    "print(str(a*b))\n",
    "print(str(a/b))\n",
    "print(str(a%b))"
   ]
  },
  {
   "cell_type": "code",
   "execution_count": 36,
   "metadata": {},
   "outputs": [
    {
     "name": "stdout",
     "output_type": "stream",
     "text": [
      "Enter kg: 70\n",
      "Enter cm: 170\n",
      "BMI:  24.221453287197235\n"
     ]
    }
   ],
   "source": [
    "def compute_bmi(a,b):\n",
    "    return (a/(pow(b,2)))\n",
    "\n",
    "def convert_cm_to_m(a):\n",
    "    return (a/100)\n",
    "\n",
    "w=int(input(\"Enter kg: \"))\n",
    "h=int(input(\"Enter cm: \"))\n",
    "m=convert_cm_to_m(h)\n",
    "\n",
    "\n",
    "print(\"BMI: \", compute_bmi(w,m))"
   ]
  }
 ],
 "metadata": {
  "kernelspec": {
   "display_name": "Python 3",
   "language": "python",
   "name": "python3"
  },
  "language_info": {
   "codemirror_mode": {
    "name": "ipython",
    "version": 3
   },
   "file_extension": ".py",
   "mimetype": "text/x-python",
   "name": "python",
   "nbconvert_exporter": "python",
   "pygments_lexer": "ipython3",
   "version": "3.8.3"
  }
 },
 "nbformat": 4,
 "nbformat_minor": 4
}
