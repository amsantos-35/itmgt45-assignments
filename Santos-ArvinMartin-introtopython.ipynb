{
 "cells": [
  {
   "cell_type": "markdown",
   "metadata": {},
   "source": [
    "185767\n",
    "Santos\n",
    "3 BS Information Technology Entrepreneurship"
   ]
  },
  {
   "cell_type": "code",
   "execution_count": 8,
   "metadata": {},
   "outputs": [
    {
     "name": "stdout",
     "output_type": "stream",
     "text": [
      "Enter first number: 1\n",
      "Enter second number: 2\n",
      "Enter third number: 3\n",
      "The average is 2.0\n"
     ]
    }
   ],
   "source": [
    "one=int(input(\"Enter first number: \"))\n",
    "two=int(input(\"Enter second number: \"))\n",
    "three=int(input(\"Enter third number: \"))\n",
    "\n",
    "three_number_average=((one+two+three)/3)\n",
    "\n",
    "print(\"The average is \" + str(three_number_average))"
   ]
  },
  {
   "cell_type": "code",
   "execution_count": null,
   "metadata": {},
   "outputs": [],
   "source": []
  }
 ],
 "metadata": {
  "kernelspec": {
   "display_name": "Python 3",
   "language": "python",
   "name": "python3"
  },
  "language_info": {
   "codemirror_mode": {
    "name": "ipython",
    "version": 3
   },
   "file_extension": ".py",
   "mimetype": "text/x-python",
   "name": "python",
   "nbconvert_exporter": "python",
   "pygments_lexer": "ipython3",
   "version": "3.8.3"
  }
 },
 "nbformat": 4,
 "nbformat_minor": 4
}
